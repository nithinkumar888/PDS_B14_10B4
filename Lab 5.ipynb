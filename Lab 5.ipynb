{
  "nbformat": 4,
  "nbformat_minor": 0,
  "metadata": {
    "colab": {
      "provenance": [],
      "authorship_tag": "ABX9TyMCsTG8wxfEBq+Lg2q/bmSf",
      "include_colab_link": true
    },
    "kernelspec": {
      "name": "python3",
      "display_name": "Python 3"
    },
    "language_info": {
      "name": "python"
    }
  },
  "cells": [
    {
      "cell_type": "markdown",
      "metadata": {
        "id": "view-in-github",
        "colab_type": "text"
      },
      "source": [
        "<a href=\"https://colab.research.google.com/github/nithinkumar888/PDS_B14_10B4/blob/main/Lab%205.ipynb\" target=\"_parent\"><img src=\"https://colab.research.google.com/assets/colab-badge.svg\" alt=\"Open In Colab\"/></a>"
      ]
    },
    {
      "cell_type": "code",
      "source": [
        "import pandas as pd\n",
        "import matplotlib.pyplot as plt\n",
        "import seaborn as sns\n",
        "# 1. Create two sample datasets\n",
        "students = pd.DataFrame({\n",
        " 'student_id': [101, 102, 103, 104, 105],\n",
        " 'name': ['Ravi', 'Neha', 'Kiran', 'Sita', 'Arjun'],\n",
        " 'department': ['CSE', 'ECE', 'MECH', 'CSE', 'ECE']\n",
        "})\n",
        "scores = pd.DataFrame({\n",
        " 'student_id': [101, 102, 103, 106],\n",
        " 'exam_score': [85, 92, 78, 88]\n",
        "})\n",
        "print(\"Students Dataset:\\n\", students, \"\\n\")\n",
        "print(\" Scores Dataset:\\n\", scores, \"\\n\")\n",
        "# 2. Merge datasets using student_id\n",
        "inner_join = pd.merge(students, scores, on='student_id', how='inner')\n",
        "left_join = pd.merge(students, scores, on='student_id', how='left')\n",
        "right_join = pd.merge(students, scores, on='student_id', how='right')\n",
        "print(\" Inner Join:\\n\", inner_join, \"\\n\")\n",
        "print(\" Left Join:\\n\", left_join, \"\\n\")\n",
        "print(\" Right Join:\\n\", right_join, \"\\n\")\n",
        "# 3. Compute aggregate statistics\n",
        "print(\" Aggregate Statistics (exam_score):\")\n",
        "print(\"Mean:\", inner_join['exam_score'].mean())\n",
        "print(\"Max:\", inner_join['exam_score'].max())\n",
        "print(\"Min:\", inner_join['exam_score'].min())\n",
        "print(\"Count:\", inner_join['exam_score'].count(), \"\\n\")\n",
        "# 4. Group by department and calculate stats\n",
        "grouped_stats = inner_join.groupby('department')['exam_score'].agg(['mean', 'max', 'min',\n",
        "'count'])\n",
        "print(\" Group-wise Statistics by Department:\\n\", grouped_stats, \"\\n\")\n",
        "# 5. Visualization\n",
        "plt.figure(figsize=(6,4))\n",
        "sns.barplot(x='department', y='exam_score', data=inner_join, estimator='mean',\n",
        "palette='viridis')\n",
        "plt.title(\"Average Exam Score by Department\")\n",
        "plt.xlabel(\"Department\")\n",
        "plt.ylabel(\"Average Score\")\n",
        "plt.show()"
      ],
      "metadata": {
        "colab": {
          "base_uri": "https://localhost:8080/",
          "height": 1000
        },
        "id": "O_BbHz6Zno--",
        "outputId": "29c3c4bd-c03c-48ff-dbfa-6b2bfcb2ff72"
      },
      "execution_count": 7,
      "outputs": [
        {
          "output_type": "stream",
          "name": "stdout",
          "text": [
            "Students Dataset:\n",
            "    student_id   name department\n",
            "0         101   Ravi        CSE\n",
            "1         102   Neha        ECE\n",
            "2         103  Kiran       MECH\n",
            "3         104   Sita        CSE\n",
            "4         105  Arjun        ECE \n",
            "\n",
            " Scores Dataset:\n",
            "    student_id  exam_score\n",
            "0         101          85\n",
            "1         102          92\n",
            "2         103          78\n",
            "3         106          88 \n",
            "\n",
            " Inner Join:\n",
            "    student_id   name department  exam_score\n",
            "0         101   Ravi        CSE          85\n",
            "1         102   Neha        ECE          92\n",
            "2         103  Kiran       MECH          78 \n",
            "\n",
            " Left Join:\n",
            "    student_id   name department  exam_score\n",
            "0         101   Ravi        CSE        85.0\n",
            "1         102   Neha        ECE        92.0\n",
            "2         103  Kiran       MECH        78.0\n",
            "3         104   Sita        CSE         NaN\n",
            "4         105  Arjun        ECE         NaN \n",
            "\n",
            " Right Join:\n",
            "    student_id   name department  exam_score\n",
            "0         101   Ravi        CSE          85\n",
            "1         102   Neha        ECE          92\n",
            "2         103  Kiran       MECH          78\n",
            "3         106    NaN        NaN          88 \n",
            "\n",
            " Aggregate Statistics (exam_score):\n",
            "Mean: 85.0\n",
            "Max: 92\n",
            "Min: 78\n",
            "Count: 3 \n",
            "\n",
            " Group-wise Statistics by Department:\n",
            "             mean  max  min  count\n",
            "department                       \n",
            "CSE         85.0   85   85      1\n",
            "ECE         92.0   92   92      1\n",
            "MECH        78.0   78   78      1 \n",
            "\n"
          ]
        },
        {
          "output_type": "stream",
          "name": "stderr",
          "text": [
            "/tmp/ipython-input-741297299.py:35: FutureWarning: \n",
            "\n",
            "Passing `palette` without assigning `hue` is deprecated and will be removed in v0.14.0. Assign the `x` variable to `hue` and set `legend=False` for the same effect.\n",
            "\n",
            "  sns.barplot(x='department', y='exam_score', data=inner_join, estimator='mean',\n"
          ]
        },
        {
          "output_type": "display_data",
          "data": {
            "text/plain": [
              "<Figure size 600x400 with 1 Axes>"
            ],
            "image/png": "[encoded data removed]"
          },
          "metadata": {}
        }
      ]
    }
  ]
}