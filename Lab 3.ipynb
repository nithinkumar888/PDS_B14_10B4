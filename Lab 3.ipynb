{
  "nbformat": 4,
  "nbformat_minor": 0,
  "metadata": {
    "colab": {
      "provenance": [],
      "authorship_tag": "ABX9TyMp3L0K0ZXnzhhbJuEkj3hE",
      "include_colab_link": true
    },
    "kernelspec": {
      "name": "python3",
      "display_name": "Python 3"
    },
    "language_info": {
      "name": "python"
    }
  },
  "cells": [
    {
      "cell_type": "markdown",
      "metadata": {
        "id": "view-in-github",
        "colab_type": "text"
      },
      "source": [
        "<a href=\"https://colab.research.google.com/github/nithinkumar888/PDS_B14_10B4/blob/main/Lab%203.ipynb\" target=\"_parent\"><img src=\"https://colab.research.google.com/assets/colab-badge.svg\" alt=\"Open In Colab\"/></a>"
      ]
    },
    {
      "cell_type": "code",
      "execution_count": 1,
      "metadata": {
        "colab": {
          "base_uri": "https://localhost:8080/",
          "height": 1000
        },
        "id": "fsEJemG7rLna",
        "outputId": "630bf196-5c3e-4fef-a6b5-fd2c318a4be9"
      },
      "outputs": [
        {
          "output_type": "stream",
          "name": "stdout",
          "text": [
            "Original RGB Image:\n",
            " [[[234  71  36]\n",
            "  [ 17   0 169]\n",
            "  [229 238 214]]\n",
            "\n",
            " [[156 205  97]\n",
            "  [ 30 248 171]\n",
            "  [189 119  36]]\n",
            "\n",
            " [[218 172  15]\n",
            "  [159 152  92]\n",
            "  [200 179 223]]]\n",
            "\n",
            "Red Channel:\n",
            " [[234  17 229]\n",
            " [156  30 189]\n",
            " [218 159 200]]\n",
            "\n",
            "Green Channel:\n",
            " [[ 71   0 238]\n",
            " [205 248 119]\n",
            " [172 152 179]]\n",
            "\n",
            "Blue Channel:\n",
            " [[ 36 169 214]\n",
            " [ 97 171  36]\n",
            " [ 15  92 223]]\n",
            "\n",
            "Average Intensities:\n",
            "Red: 159.11, Green: 153.78, Blue: 117.00\n",
            "\n",
            "Brightened Image:\n",
            " [[[ 28 121  86]\n",
            "  [ 67  50 219]\n",
            "  [ 23  32   8]]\n",
            "\n",
            " [[206 255 147]\n",
            "  [ 80  42 221]\n",
            "  [239 169  86]]\n",
            "\n",
            " [[ 12 222  65]\n",
            "  [209 202 142]\n",
            "  [250 229  17]]]\n"
          ]
        },
        {
          "output_type": "display_data",
          "data": {
            "text/plain": [
              "<Figure size 1200x300 with 4 Axes>"
            ],
            "image/png": "[encoded data removed]"
          },
          "metadata": {}
        },
        {
          "output_type": "display_data",
          "data": {
            "text/plain": [
              "<Figure size 640x480 with 1 Axes>"
            ],
            "image/png": "[encoded data removed]"
          },
          "metadata": {}
        }
      ],
      "source": [
        "import numpy as np\n",
        "import matplotlib.pyplot as plt\n",
        "# 1. Create a 3x3x3 RGB image\n",
        "image = np.random.randint(0, 256, (3, 3, 3), dtype=np.uint8)\n",
        "print(\"Original RGB Image:\\n\", image)\n",
        "# 2. Extract individual channels\n",
        "red_channel = image[:, :, 0]\n",
        "green_channel = image[:, :, 1]\n",
        "blue_channel = image[:, :, 2]\n",
        "print(\"\\nRed Channel:\\n\", red_channel)\n",
        "print(\"\\nGreen Channel:\\n\", green_channel)\n",
        "print(\"\\nBlue Channel:\\n\", blue_channel)\n",
        "#3. Compute average pixel intensity\n",
        "avg_red = np.mean(red_channel)\n",
        "avg_green = np.mean(green_channel)\n",
        "avg_blue = np.mean(blue_channel)\n",
        "print(f\"\\nAverage Intensities:\\nRed: {avg_red:.2f}, Green: {avg_green:.2f}, Blue: {avg_blue:.2f}\")\n",
        "# 4. Brighten image\n",
        "brightened_image = np.clip(image + 50, 0, 255).astype(np.uint8)\n",
        "print(\"\\nBrightened Image:\\n\", brightened_image)\n",
        "# 5. Plot original and individual channels\n",
        "fig, axs = plt.subplots(1, 4, figsize=(12, 3))\n",
        "axs[0].imshow(image)\n",
        "axs[0].set_title(\"Original\")\n",
        "axs[0].axis(\"off\")\n",
        "axs[1].imshow(red_channel, cmap='Reds')\n",
        "axs[1].set_title(\"Red Channel\")\n",
        "axs[1].axis(\"off\")\n",
        "axs[2].imshow(green_channel, cmap='Greens')\n",
        "axs[2].set_title(\"Green Channel\")\n",
        "axs[2].axis(\"off\")\n",
        "axs[3].imshow(blue_channel, cmap='Blues')\n",
        "axs[3].set_title(\"Blue Channel\")\n",
        "axs[3].axis(\"off\")\n",
        "plt.tight_layout()\n",
        "plt.show()\n",
        "# 6. Show brightened image\n",
        "plt.imshow(brightened_image)\n",
        "plt.title(\"Brightened Image\")\n",
        "plt.axis(\"off\")\n",
        "plt.show()"
      ]
    }
  ]
}