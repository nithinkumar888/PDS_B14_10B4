{
  "nbformat": 4,
  "nbformat_minor": 0,
  "metadata": {
    "colab": {
      "provenance": [],
      "authorship_tag": "ABX9TyMA5cxjuWubL2rv/N1d4rLf",
      "include_colab_link": true
    },
    "kernelspec": {
      "name": "python3",
      "display_name": "Python 3"
    },
    "language_info": {
      "name": "python"
    }
  },
  "cells": [
    {
      "cell_type": "markdown",
      "metadata": {
        "id": "view-in-github",
        "colab_type": "text"
      },
      "source": [
        "<a href=\"https://colab.research.google.com/github/nithinkumar888/PDS_B14_10B4/blob/main/Lab%202.ipynb\" target=\"_parent\"><img src=\"https://colab.research.google.com/assets/colab-badge.svg\" alt=\"Open In Colab\"/></a>"
      ]
    },
    {
      "cell_type": "code",
      "source": [
        "import numpy as np\n",
        "marks = np.array([\n",
        "    [78, 85, 92],   # Student 1\n",
        "    [88, 76, 95],   # Student 2\n",
        "    [90, 82, 87],   # Student 3\n",
        "    [69, 72, 80],   # Student 4\n",
        "    [95, 89, 99]    # Student 5\n",
        "])\n",
        "\n",
        "print(\"Student Marks Array:\\n\", marks)\n",
        "avg_marks = np.mean(marks)\n",
        "min_marks = np.min(marks)\n",
        "max_marks = np.max(marks)\n",
        "\n",
        "print(\"\\nOverall Average Marks:\", avg_marks)\n",
        "print(\"Minimum Marks:\", min_marks)\n",
        "print(\"Maximum Marks:\", max_marks)\n",
        "print(\"\\nMarks of Student 2:\", marks[1, :])  # Row 2\n",
        "print(\"Marks of Student 4:\", marks[3, :])  # Row 4\n",
        "above_80 = marks > 80\n",
        "print(\"\\nBoolean Array (True if score > 80):\\n\", above_80)\n",
        "\n",
        "students_above_80 = np.any(marks > 80, axis=1)\n",
        "print(\"\\nStudents scoring above 80 in at least one subject:\\n\", marks[students_above_80])\n",
        "subject_wise = marks.T\n",
        "print(\"\\nSubject-wise Marks (Each row = Subject, Columns = Students):\\n\", subject_wise)\n",
        "print(\"\\nAnalysis:\")\n",
        "print(\"- Student 5 performed exceptionally well with highest scores (close to 100).\")\n",
        "print(\"- Student 4 has relatively lower performance compared to others.\")\n",
        "print(\"- Subject 3 seems to have higher overall scores than Subject 1 and 2.\")\n",
        "print(\"- Most students scored above 80 at least once, showing good overall performance.\")\n"
      ],
      "metadata": {
        "colab": {
          "base_uri": "https://localhost:8080/"
        },
        "id": "UzELWguUP5Kr",
        "outputId": "87007803-16c1-4798-885a-ed68ef338c7a"
      },
      "execution_count": 3,
      "outputs": [
        {
          "output_type": "stream",
          "name": "stdout",
          "text": [
            "Student Marks Array:\n",
            " [[78 85 92]\n",
            " [88 76 95]\n",
            " [90 82 87]\n",
            " [69 72 80]\n",
            " [95 89 99]]\n",
            "\n",
            "Overall Average Marks: 85.13333333333334\n",
            "Minimum Marks: 69\n",
            "Maximum Marks: 99\n",
            "\n",
            "Marks of Student 2: [88 76 95]\n",
            "Marks of Student 4: [69 72 80]\n",
            "\n",
            "Boolean Array (True if score > 80):\n",
            " [[False  True  True]\n",
            " [ True False  True]\n",
            " [ True  True  True]\n",
            " [False False False]\n",
            " [ True  True  True]]\n",
            "\n",
            "Students scoring above 80 in at least one subject:\n",
            " [[78 85 92]\n",
            " [88 76 95]\n",
            " [90 82 87]\n",
            " [95 89 99]]\n",
            "\n",
            "Subject-wise Marks (Each row = Subject, Columns = Students):\n",
            " [[78 88 90 69 95]\n",
            " [85 76 82 72 89]\n",
            " [92 95 87 80 99]]\n",
            "\n",
            "Analysis:\n",
            "- Student 5 performed exceptionally well with highest scores (close to 100).\n",
            "- Student 4 has relatively lower performance compared to others.\n",
            "- Subject 3 seems to have higher overall scores than Subject 1 and 2.\n",
            "- Most students scored above 80 at least once, showing good overall performance.\n"
          ]
        }
      ]
    },
    {
      "cell_type": "code",
      "source": [],
      "metadata": {
        "id": "uVcGtfe3P5Na"
      },
      "execution_count": null,
      "outputs": []
    },
    {
      "cell_type": "code",
      "source": [],
      "metadata": {
        "id": "POkNGD9mP5Q4"
      },
      "execution_count": null,
      "outputs": []
    },
    {
      "cell_type": "code",
      "source": [],
      "metadata": {
        "id": "wFX_IdHzP5dM"
      },
      "execution_count": null,
      "outputs": []
    },
    {
      "cell_type": "code",
      "source": [],
      "metadata": {
        "id": "KZfs0C1kP5gi"
      },
      "execution_count": null,
      "outputs": []
    }
  ]
}