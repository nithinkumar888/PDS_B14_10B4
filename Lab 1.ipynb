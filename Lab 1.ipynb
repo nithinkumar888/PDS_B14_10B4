{
  "nbformat": 4,
  "nbformat_minor": 0,
  "metadata": {
    "colab": {
      "provenance": [],
      "authorship_tag": "ABX9TyMdYOgoKrXvQs0+nNOPkuhu",
      "include_colab_link": true
    },
    "kernelspec": {
      "name": "python3",
      "display_name": "Python 3"
    },
    "language_info": {
      "name": "python"
    }
  },
  "cells": [
    {
      "cell_type": "markdown",
      "metadata": {
        "id": "view-in-github",
        "colab_type": "text"
      },
      "source": [
        "<a href=\"https://colab.research.google.com/github/nithinkumar888/PDS_B14_10B4/blob/main/Lab%201.ipynb\" target=\"_parent\"><img src=\"https://colab.research.google.com/assets/colab-badge.svg\" alt=\"Open In Colab\"/></a>"
      ]
    },
    {
      "cell_type": "code",
      "execution_count": 1,
      "metadata": {
        "colab": {
          "base_uri": "https://localhost:8080/"
        },
        "id": "pEASOdyqPlvq",
        "outputId": "1606160c-39b4-406d-8299-091735d7ad0e"
      },
      "outputs": [
        {
          "output_type": "stream",
          "name": "stdout",
          "text": [
            "Enter a number (0-9) to compute factorial: 3\n",
            "\n",
            "Computing factorial of 3 recursively:\n",
            "\n",
            "Call factorial(3)\n",
            "  Calling factorial(2)\n",
            "  Call factorial(2)\n",
            "    Calling factorial(1)\n",
            "    Call factorial(1)\n",
            "      Base case reached - returning 1\n",
            "    Received 1 from factorial(1)\n",
            "    Returning 2 (since 2 * 1 = 2)\n",
            "  Received 2 from factorial(2)\n",
            "  Returning 6 (since 3 * 2 = 6)\n",
            "\n",
            "Final result: 3! = 6\n"
          ]
        }
      ],
      "source": [
        "def factorial(n, depth=0):\n",
        "    # Print the current call with proper indentation\n",
        "    indent = \"  \" * depth\n",
        "    print(f\"{indent}Call factorial({n})\")\n",
        "\n",
        "    if n < 0:\n",
        "        print(f\"{indent}  Error: Negative input\")\n",
        "        return None\n",
        "    if n <= 1:\n",
        "        print(f\"{indent}  Base case reached - returning 1\")\n",
        "        return 1\n",
        "\n",
        "    # Recursive case\n",
        "    print(f\"{indent}  Calling factorial({n-1})\")\n",
        "    result = n * factorial(n - 1, depth + 1)\n",
        "    print(f\"{indent}  Received {result//n} from factorial({n-1})\")\n",
        "    print(f\"{indent}  Returning {result} (since {n} * {result//n} = {result})\")\n",
        "    return result\n",
        "\n",
        "# Get input from user (limited to small numbers <10)\n",
        "while True:\n",
        "    try:\n",
        "        num = int(input(\"Enter a number (0-9) to compute factorial: \"))\n",
        "        if 0 <= num <= 9:\n",
        "            break\n",
        "        print(\"Please enter a number between 0 and 9\")\n",
        "    except ValueError:\n",
        "        print(\"Please enter a valid integer\")\n",
        "\n",
        "print(\"\\nComputing factorial of\", num, \"recursively:\\n\")\n",
        "result = factorial(num)\n",
        "print(f\"\\nFinal result: {num}! = {result}\")"
      ]
    },
    {
      "cell_type": "code",
      "source": [],
      "metadata": {
        "id": "UzELWguUP5Kr"
      },
      "execution_count": null,
      "outputs": []
    },
    {
      "cell_type": "code",
      "source": [],
      "metadata": {
        "id": "uVcGtfe3P5Na"
      },
      "execution_count": null,
      "outputs": []
    },
    {
      "cell_type": "code",
      "source": [],
      "metadata": {
        "id": "POkNGD9mP5Q4"
      },
      "execution_count": null,
      "outputs": []
    },
    {
      "cell_type": "code",
      "source": [],
      "metadata": {
        "id": "wFX_IdHzP5dM"
      },
      "execution_count": null,
      "outputs": []
    },
    {
      "cell_type": "code",
      "source": [],
      "metadata": {
        "id": "KZfs0C1kP5gi"
      },
      "execution_count": null,
      "outputs": []
    }
  ]
}